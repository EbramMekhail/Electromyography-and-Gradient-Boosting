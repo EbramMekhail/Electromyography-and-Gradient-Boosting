{
  "nbformat": 4,
  "nbformat_minor": 0,
  "metadata": {
    "colab": {
      "provenance": [],
      "toc_visible": true,
      "authorship_tag": "ABX9TyNbv+EYHq6xrX/l31xhYloY",
      "include_colab_link": true
    },
    "kernelspec": {
      "name": "python3",
      "display_name": "Python 3"
    },
    "language_info": {
      "name": "python"
    }
  },
  "cells": [
    {
      "cell_type": "markdown",
      "metadata": {
        "id": "view-in-github",
        "colab_type": "text"
      },
      "source": [
        "<a href=\"https://colab.research.google.com/github/EbramMekhail/Electromyography-and-Gradient-Boosting/blob/main/EGB.ipynb\" target=\"_parent\"><img src=\"https://colab.research.google.com/assets/colab-badge.svg\" alt=\"Open In Colab\"/></a>"
      ]
    },
    {
      "cell_type": "markdown",
      "source": [
        "# Background and Documentation (30 points) \n",
        "#Electromyography and Gradient Boosting\n",
        "\n",
        "\n",
        "\n",
        "## What is Gradient Boosting?\n",
        "\n",
        "<br>\n",
        "\n",
        "The best way to describe *Gradient Boosting* would the combination of multiple smaller models into a single composite model. In *Gradient Boosting* the method they use to create a single model is by taking the previous model and fitting it to the residual error made by the previous model.\n",
        "\n",
        "The following equations describes the process.\n",
        "1. $F_1(X) = y$ - Fitting Data into a model.\n",
        "2. $h_1(X) = y - F_1(X)$ - Fitting the previous model to the residual error.\n",
        "3. $F_2(X) = F_1(X) + h_1(X)$ - Creating a new model based on the previous model and the residual error\n",
        "4. $F_{m+1}(X) = F_m(X) + h_m(X)$ - Repeats steps 2-3. The models residual error for m iterations: <br> $h_m(X) = y - F_m(X)$\n",
        "   \n",
        "---\n",
        "## Heading in the right direction\n",
        "\n",
        "In the previous section we explained how Gradient Boosting works weak models trained on previous models residual error $y-F_{m-1}(x)$. The issue arises when the model chases outliers. A counter to this issue would be to use a sign vector:\n",
        "$sign(y_i - F_{m-1}(x_i))$ this will return one of the following $(-1,0,1)$.\n",
        "\n",
        "## Loss Functions in Gradient Boosting\n",
        "\n",
        "The most common loss function related to gradient boosting is :\n",
        "\n",
        "$$ L(y, F_M(X)) = \\frac{1}{N}\\sum_{i=1}^N L(y_i, F_M(x_i)) $$\n",
        "\n",
        "also for regression the function can be equivalent too:\n",
        "\n",
        "$$ L(y, F_M(X)) = \\frac{1}{N}\\sum_{i=1}^N \\left(y_i - F_M(x_i) \\right)^2 $$\n",
        "\n",
        "Next, to calculate the gradient for each $m\\in 1, \\ldots, M$ we can use the follow equation:\n",
        "\n",
        "$$ r_{im} = - \\left[ \\frac{\\partial L(y_i, F(x_i)}{\\partial F(x_i)} \\right]_{F(x)=F_{m-1}(x)} \\,, \\qquad i = 1, \\ldots , N$$\n",
        "\n",
        "The previous equation is used for fitting a weak learner to the gradient components. To update the gradient descent we would have to use the following equation:\n",
        "\n",
        "$$ F_{m+1}(X) = F_m(X) + \\gamma_m h_m(X)$$\n",
        "\n",
        "$\\gamma_m$ in this situation would stand for the  learning rate or more specifically the shrinkage parameter that controllers how much each tree can contribute.\n",
        "\n",
        "Finally we can use Mean Square Error since this algorithm is similar to the classification the only difference is we split the training data to minimize MSE instead originally we minimized the Gini Impurity.\n",
        "\n",
        "\n",
        "$$J(k, t_k) = \\frac{m_\\mathrm{left}}{m}\\mathrm{MSE}_\\mathrm{left} + \\frac{m_\\mathrm{right}}{m}\\mathrm{MSE}_\\mathrm{right} $$\n",
        "\n",
        "where \n",
        "\n",
        "$$ \\mathrm{MSE}_\\mathrm{node} = \\sum_{i\\in \\mathrm{node}} \\left(\\hat{y}_\\mathrm{node} - y^{(i)}\\right)^2 \n",
        "\\qquad \\mathrm{and} \\qquad\n",
        "\\hat{y}_\\mathrm{node} = \\frac{1}{m_\\mathrm{node}} \\sum_{i\\in \\mathrm{node}} y^{(i)}\n",
        "$$\n",
        "\n"
      ],
      "metadata": {
        "id": "R7y8DxUbx_3z"
      }
    },
    {
      "cell_type": "code",
      "execution_count": null,
      "metadata": {
        "id": "cXjxLm0-X2i3"
      },
      "outputs": [],
      "source": [
        "# ! git clone https://github.com/joelgrus/data-science-from-scratch\n",
        "# ! mv data-science-from-scratch dsfs\n",
        "! pip install --upgrade hepml\n"
      ]
    },
    {
      "cell_type": "code",
      "source": [
        "import pandas as pd\n",
        "import jax.numpy as jnp\n",
        "import jax.random as jrandom\n",
        "import matplotlib.pyplot as plt\n",
        "import seaborn as sns\n",
        "from hepml.core import plot_regression_tree\n",
        "from sklearn.model_selection import train_test_split\n",
        "from sklearn.tree import DecisionTreeClassifier\n",
        "from sklearn.metrics import mean_squared_error\n",
        "sns.set(color_codes=True)\n",
        "sns.set_palette(sns.color_palette(\"muted\"))\n"
      ],
      "metadata": {
        "id": "VLNaR7XqYPM7"
      },
      "execution_count": 332,
      "outputs": []
    },
    {
      "cell_type": "markdown",
      "source": [
        "#Coding from scratch using JAX (30 points)\n",
        "\n",
        "First we generate the Data using the Equation given to us"
      ],
      "metadata": {
        "id": "dvJXFb2kISoW"
      }
    },
    {
      "cell_type": "code",
      "source": [
        "from sklearn.model_selection import train_test_split\n",
        "# set the number of examples\n",
        "number_of_examples = 200\n",
        "\n",
        "# fix the seed for reproducibility\n",
        "seed = jrandom.PRNGKey(42)\n",
        "\n",
        "# generate features\n",
        "X = jnp.linspace(-5, 5, number_of_examples)\n",
        "\n",
        "# generate target\n",
        "y = jnp.array(list(map(lambda x: 1.0 if jnp.cos(x) >= 0 else -1.0, X)))\n",
        "epsilon = 0.1\n",
        "y += epsilon * jrandom.uniform(seed, shape=(200,))\n",
        "\n",
        "# create pandas.DataFrame\n",
        "data = pd.DataFrame(data=jnp.stack([X, y], axis=1), columns=[\"X\", \"y\"])\n",
        "data = data.astype({'X': float, 'y': float})\n",
        "\n",
        "# print(data.head())\n",
        "X = data[[\"X\"]]\n",
        "y = data[[\"y\"]]\n",
        "X_train, X_test, y_train, y_test = train_test_split(X, y, test_size=0.3) # 70% training and 30% test\n",
        "X_train, y_train = X_train.sort_index(), y_train.sort_index()\n",
        "X_test, y_test = X_test.sort_index(), y_test.sort_index()\n",
        "\n",
        "sns.scatterplot(x=\"X\", y=\"y\", data=data, alpha=0.8)\n",
        "plt.figure(figsize=(10, 10))\n",
        "plt.show()\n"
      ],
      "metadata": {
        "colab": {
          "base_uri": "https://localhost:8080/",
          "height": 302
        },
        "id": "djUmPHUlYCjS",
        "outputId": "61bae0d1-7ad6-4df0-8b37-d6907f0c58a7"
      },
      "execution_count": 423,
      "outputs": [
        {
          "output_type": "display_data",
          "data": {
            "text/plain": [
              "<Figure size 432x288 with 1 Axes>"
            ],
            "image/png": "[encoded data removed]"
          },
          "metadata": {}
        },
        {
          "output_type": "display_data",
          "data": {
            "text/plain": [
              "<Figure size 720x720 with 0 Axes>"
            ]
          },
          "metadata": {}
        }
      ]
    },
    {
      "cell_type": "markdown",
      "source": [
        "Using decision tree because of the issues we had using the method implmented from scratch in the book.\n",
        "\n",
        "Then we just loop over it and feed it back the residuals. \n",
        "\n",
        "This is what a basic Gradient Boosting looks like "
      ],
      "metadata": {
        "id": "sDJa925fIdO5"
      }
    },
    {
      "cell_type": "code",
      "source": [
        "from sklearn.tree import DecisionTreeClassifier\n",
        "from sklearn.metrics import mean_squared_error\n",
        "\n",
        "# model hyperparameters\n",
        "n_trees = 10\n",
        "max_depth = 1\n",
        "y_train = jnp.round_(jnp.array(y_train)[:,0]).astype(int)\n",
        "# Training\n",
        "F0 = round(y_train.mean())\n",
        "Fm = F0\n",
        "trees = []\n",
        "MSE = []\n",
        "for _ in range(n_trees):\n",
        "  tree = DecisionTreeClassifier(max_depth=max_depth)\n",
        "  tree.fit(X_train, y_train - Fm)\n",
        "  Fm += tree.predict(X_train)\n",
        "  trees.append(tree)\n",
        "    \n",
        "\n",
        "# Prediction\n",
        "y_hat = F0 + jnp.sum(jnp.array([t.predict(X_test) for t in trees]), axis=0)\n",
        "y_hat = pd.DataFrame(y_hat, columns = ['y'])\n",
        "\n",
        "label = 'Training set'\n",
        "data_label = 'Model'\n",
        "plt.ylabel(\"Y\")\n",
        "plt.xlabel(\"X\")\n",
        "plt.plot(X_test, y_test, \"b.\", label=label)\n",
        "plt.plot(X_test, y_hat.sort_index(), \"g-\", linewidth=2, label=data_label)\n",
        "if label or data_label:\n",
        "  plt.legend(loc=\"right\")"
      ],
      "metadata": {
        "colab": {
          "base_uri": "https://localhost:8080/",
          "height": 285
        },
        "id": "oV_yB2kz7_m5",
        "outputId": "cc0a0d24-fff8-406c-e2b8-6688cc163b65"
      },
      "execution_count": 424,
      "outputs": [
        {
          "output_type": "display_data",
          "data": {
            "text/plain": [
              "<Figure size 432x288 with 1 Axes>"
            ],
            "image/png": "[encoded data removed]"
          },
          "metadata": {}
        }
      ]
    },
    {
      "cell_type": "markdown",
      "source": [
        "#EMG Dataset (40 points)\n"
      ],
      "metadata": {
        "id": "_pE47VYvJC4V"
      }
    },
    {
      "cell_type": "markdown",
      "source": [
        "I mount the data from my drive since it was not downloadble any otherway.\n",
        "\n",
        "If you would like to this colab notebook please download the data and change the data directories."
      ],
      "metadata": {
        "id": "O7YkerujIweR"
      }
    },
    {
      "cell_type": "code",
      "source": [
        "from google.colab import drive\n",
        "drive.mount('/content/gdrive')"
      ],
      "metadata": {
        "colab": {
          "base_uri": "https://localhost:8080/"
        },
        "id": "yr4ZUYAaeDSR",
        "outputId": "b2007a54-2c39-4001-ca2c-8ae9d7c0aa6d"
      },
      "execution_count": 425,
      "outputs": [
        {
          "output_type": "stream",
          "name": "stdout",
          "text": [
            "Drive already mounted at /content/gdrive; to attempt to forcibly remount, call drive.mount(\"/content/gdrive\", force_remount=True).\n"
          ]
        }
      ]
    },
    {
      "cell_type": "code",
      "source": [
        "import os\n",
        "\n",
        "actions = {}\n",
        "# When Given the entire dataset the model over fits and the predictions become worse\n",
        "data_dirs = [\"/content/gdrive/MyDrive/Fall 2022/CS301/EMG Physical Action Data Set/sub1/Aggressive/txt/\",\n",
        "             \"/content/gdrive/MyDrive/Fall 2022/CS301/EMG Physical Action Data Set/sub1/Normal/txt/\"]\n",
        "\n",
        "ind = 0\n",
        "data = pd.DataFrame()\n",
        "\n",
        "for dirs in data_dirs :\n",
        "\n",
        "  for files in os.listdir(dirs):\n",
        "\n",
        "    with open(os.path.join(dirs, files), \"r\") as f:  # from all the files within all the dirs, read the tab separated files.\n",
        "\n",
        "     # Extracting the 8 columns names from filenames\n",
        "      temp = pd.read_csv(f.name,\n",
        "                        sep = \"\\t\",\n",
        "                        header = None, \n",
        "                        names = [\"ch\" + str(i) for i in range(1, 9)] # 8 input channels\n",
        "                        )\n",
        "      \n",
        "      # chunking using Max of every 10 sequential values.\n",
        "      temp_chunked = pd.DataFrame()\n",
        "\n",
        "      for i in range(0, len(temp), 10):\n",
        "        temp_chunked = temp_chunked.append(temp.iloc[i:i+10].max(), ignore_index = True)\n",
        "\n",
        "      # Defining the class labels \n",
        "\n",
        "      labels = [files[:-4] for i in range(len(temp_chunked))] # remove the last 4 characters=\".txt\" from the filename to get the activity name\n",
        "      actions[files[:-4]] = ind # We have about 20 activity classes and they are assigned a numeric labels in the actions dictionary.\n",
        "      temp_chunked[\"Action\"] = labels\n",
        "\n",
        "      # Final Data pro\n",
        "      data = pd.concat([data, temp_chunked])\n",
        "\n",
        "      ind+=1\n"
      ],
      "metadata": {
        "id": "Jo-yzANmeHP4"
      },
      "execution_count": 426,
      "outputs": []
    },
    {
      "cell_type": "code",
      "source": [
        "X=data.drop([\"Action\"], axis=1)\n",
        "y=data[\"Action\"]\n",
        "y = y.map(actions)\n",
        "X_train, X_test, y_train, y_test = train_test_split(X, y, test_size=0.3) # 70% training and 30% test\n",
        "print(y_train)"
      ],
      "metadata": {
        "colab": {
          "base_uri": "https://localhost:8080/"
        },
        "id": "Z0gNCoTj2Gw_",
        "outputId": "7adbe403-7ffe-43ad-c11c-64ca774e87f9"
      },
      "execution_count": 450,
      "outputs": [
        {
          "output_type": "stream",
          "name": "stdout",
          "text": [
            "216    18\n",
            "188    18\n",
            "412     0\n",
            "276     7\n",
            "112     2\n",
            "       ..\n",
            "644    17\n",
            "308     1\n",
            "477    17\n",
            "352     8\n",
            "37     11\n",
            "Name: Action, Length: 13797, dtype: int64\n"
          ]
        }
      ]
    },
    {
      "cell_type": "code",
      "source": [
        "# model hyperparameters\n",
        "n_trees = 200\n",
        "max_depth = 7\n",
        "# y_train = jnp.round_(jnp.array(y_train)[:,0])\n",
        "# Training\n",
        "F0 = round(y_train.mean()) \n",
        "Fm = F0\n",
        "trees = []\n",
        "for _ in range(n_trees):\n",
        "    tree = DecisionTreeClassifier(max_depth=max_depth)\n",
        "    tree.fit(X_train, y_train - Fm)\n",
        "    Fm += tree.predict(X_train)\n",
        "    trees.append(tree)\n",
        "\n",
        "# Prediction\n",
        "y_hat = F0 + jnp.sum(jnp.array([t.predict(X_test) for t in trees]), axis=0)\n",
        "\n",
        "# print(y_hat)\n",
        "y_test = y_test.to_numpy()\n",
        "\n",
        "sum = 0\n",
        "for i in range(len(y_hat)):\n",
        "  if y_hat[i] == y_test[i]:\n",
        "    sum +=1\n",
        "print(\"Acc\" , sum/len(y_hat))"
      ],
      "metadata": {
        "colab": {
          "base_uri": "https://localhost:8080/"
        },
        "id": "7Y0jGW3GLSwz",
        "outputId": "102c582d-4da9-4ee7-c7f6-69b49300feb2"
      },
      "execution_count": 451,
      "outputs": [
        {
          "output_type": "stream",
          "name": "stdout",
          "text": [
            "Acc 0.46516739939127494\n"
          ]
        }
      ]
    }
  ]
}